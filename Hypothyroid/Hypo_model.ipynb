{
 "cells": [
  {
   "cell_type": "code",
   "execution_count": 1,
   "id": "84b0153f-3737-46ea-acf8-649ba99ea279",
   "metadata": {},
   "outputs": [],
   "source": [
    "import pandas as pd\n",
    "import numpy as np\n",
    "from sklearn.model_selection import train_test_split\n",
    "from sklearn.preprocessing import StandardScaler\n",
    "from tensorflow.keras.models import Sequential\n",
    "from tensorflow.keras.layers import Dense, Dropout\n",
    "from tensorflow.keras.optimizers import Adam\n",
    "from tensorflow.keras.callbacks import EarlyStopping\n",
    "from sklearn.metrics import confusion_matrix, classification_report"
   ]
  },
  {
   "cell_type": "code",
   "execution_count": 2,
   "id": "f8edb52d-8e84-44f5-a282-cf601ff5706a",
   "metadata": {},
   "outputs": [],
   "source": [
    "df = pd.read_csv(\"clean_df.csv\")"
   ]
  },
  {
   "cell_type": "markdown",
   "id": "cf21519b-e074-44ab-a8a4-4e54e9b1273e",
   "metadata": {},
   "source": [
    "# MODEL CREATION"
   ]
  },
  {
   "cell_type": "code",
   "execution_count": 3,
   "id": "4bf5b185-6f7d-49a1-85b8-3820cb3117dc",
   "metadata": {},
   "outputs": [],
   "source": [
    "X = df.drop(\"binaryClass\", axis=1)\n",
    "y = df[\"binaryClass\"]"
   ]
  },
  {
   "cell_type": "code",
   "execution_count": 4,
   "id": "ffb9c9b7-18d1-4819-86d1-7509d42528f9",
   "metadata": {},
   "outputs": [],
   "source": [
    "X_train, X_test, y_train, y_test = train_test_split(X, y, test_size=0.25, random_state=42)"
   ]
  },
  {
   "cell_type": "code",
   "execution_count": 5,
   "id": "b5dbec17-bc2f-46f1-b87e-dcf3fe4f157c",
   "metadata": {},
   "outputs": [],
   "source": [
    "sc = StandardScaler()\n",
    "sc.fit(X_train)\n",
    "X_train = sc.transform(X_train)\n",
    "X_test = sc.transform(X_test)"
   ]
  },
  {
   "cell_type": "code",
   "execution_count": 6,
   "id": "6b13d2a4-876d-4e47-bb8b-d329c5535841",
   "metadata": {},
   "outputs": [],
   "source": [
    "model = Sequential()\n",
    "model.add(Dense(256, input_shape=[X.shape[1]], activation=\"relu\"))\n",
    "model.add(Dropout(0.4))\n",
    "model.add(Dense(128, activation=\"sigmoid\"))\n",
    "model.add(Dropout(0.3))\n",
    "model.add(Dense(64, activation=\"relu\"))\n",
    "model.add(Dropout(0.2))\n",
    "\n",
    "model.add(Dense(1, activation=\"sigmoid\"))"
   ]
  },
  {
   "cell_type": "code",
   "execution_count": 7,
   "id": "364029e4-e0ac-43a8-92c5-4d199c6a9de9",
   "metadata": {},
   "outputs": [],
   "source": [
    "model.compile(optimizer=Adam(), loss=\"binary_crossentropy\", metrics=[\"accuracy\"])"
   ]
  },
  {
   "cell_type": "code",
   "execution_count": 8,
   "id": "4154918f-449a-4f77-95a7-6bd25e641f1a",
   "metadata": {},
   "outputs": [],
   "source": [
    "es = EarlyStopping(monitor=\"val_loss\", mode=\"min\", verbose=1, patience=20)"
   ]
  },
  {
   "cell_type": "code",
   "execution_count": 9,
   "id": "7ef5fff3-ae21-453b-b8cf-e3d4752a2026",
   "metadata": {},
   "outputs": [
    {
     "name": "stdout",
     "output_type": "stream",
     "text": [
      "Epoch 1/100\n",
      "45/45 [==============================] - 1s 12ms/step - loss: 0.3604 - accuracy: 0.8660 - val_loss: 0.2283 - val_accuracy: 0.9311\n",
      "Epoch 2/100\n",
      "45/45 [==============================] - 0s 8ms/step - loss: 0.2407 - accuracy: 0.9201 - val_loss: 0.1879 - val_accuracy: 0.9321\n",
      "Epoch 3/100\n",
      "45/45 [==============================] - 0s 11ms/step - loss: 0.1981 - accuracy: 0.9290 - val_loss: 0.1529 - val_accuracy: 0.9502\n",
      "Epoch 4/100\n",
      "45/45 [==============================] - 0s 8ms/step - loss: 0.1728 - accuracy: 0.9431 - val_loss: 0.1360 - val_accuracy: 0.9533\n",
      "Epoch 5/100\n",
      "45/45 [==============================] - 0s 6ms/step - loss: 0.1550 - accuracy: 0.9502 - val_loss: 0.1195 - val_accuracy: 0.9576\n",
      "Epoch 6/100\n",
      "45/45 [==============================] - 0s 4ms/step - loss: 0.1362 - accuracy: 0.9540 - val_loss: 0.1059 - val_accuracy: 0.9597\n",
      "Epoch 7/100\n",
      "45/45 [==============================] - 0s 4ms/step - loss: 0.1260 - accuracy: 0.9586 - val_loss: 0.0874 - val_accuracy: 0.9671\n",
      "Epoch 8/100\n",
      "45/45 [==============================] - 0s 4ms/step - loss: 0.1033 - accuracy: 0.9654 - val_loss: 0.0763 - val_accuracy: 0.9745\n",
      "Epoch 9/100\n",
      "45/45 [==============================] - 0s 4ms/step - loss: 0.0991 - accuracy: 0.9671 - val_loss: 0.0803 - val_accuracy: 0.9682\n",
      "Epoch 10/100\n",
      "45/45 [==============================] - 0s 4ms/step - loss: 0.0771 - accuracy: 0.9721 - val_loss: 0.0655 - val_accuracy: 0.9735\n",
      "Epoch 11/100\n",
      "45/45 [==============================] - 0s 4ms/step - loss: 0.0694 - accuracy: 0.9763 - val_loss: 0.0551 - val_accuracy: 0.9841\n",
      "Epoch 12/100\n",
      "45/45 [==============================] - 0s 4ms/step - loss: 0.0645 - accuracy: 0.9774 - val_loss: 0.0560 - val_accuracy: 0.9799\n",
      "Epoch 13/100\n",
      "45/45 [==============================] - 0s 4ms/step - loss: 0.0647 - accuracy: 0.9788 - val_loss: 0.0564 - val_accuracy: 0.9841\n",
      "Epoch 14/100\n",
      "45/45 [==============================] - 0s 4ms/step - loss: 0.0571 - accuracy: 0.9806 - val_loss: 0.0536 - val_accuracy: 0.9820\n",
      "Epoch 15/100\n",
      "45/45 [==============================] - 0s 4ms/step - loss: 0.0562 - accuracy: 0.9788 - val_loss: 0.0513 - val_accuracy: 0.9820\n",
      "Epoch 16/100\n",
      "45/45 [==============================] - 0s 3ms/step - loss: 0.0467 - accuracy: 0.9827 - val_loss: 0.0546 - val_accuracy: 0.9830\n",
      "Epoch 17/100\n",
      "45/45 [==============================] - 0s 4ms/step - loss: 0.0491 - accuracy: 0.9837 - val_loss: 0.0566 - val_accuracy: 0.9809\n",
      "Epoch 18/100\n",
      "45/45 [==============================] - 0s 4ms/step - loss: 0.0439 - accuracy: 0.9873 - val_loss: 0.0483 - val_accuracy: 0.9873\n",
      "Epoch 19/100\n",
      "45/45 [==============================] - 0s 4ms/step - loss: 0.0382 - accuracy: 0.9873 - val_loss: 0.0492 - val_accuracy: 0.9852\n",
      "Epoch 20/100\n",
      "45/45 [==============================] - 0s 4ms/step - loss: 0.0423 - accuracy: 0.9873 - val_loss: 0.0522 - val_accuracy: 0.9862\n",
      "Epoch 21/100\n",
      "45/45 [==============================] - 0s 4ms/step - loss: 0.0397 - accuracy: 0.9855 - val_loss: 0.0461 - val_accuracy: 0.9883\n",
      "Epoch 22/100\n",
      "45/45 [==============================] - 0s 4ms/step - loss: 0.0387 - accuracy: 0.9873 - val_loss: 0.0426 - val_accuracy: 0.9894\n",
      "Epoch 23/100\n",
      "45/45 [==============================] - 0s 4ms/step - loss: 0.0419 - accuracy: 0.9859 - val_loss: 0.0429 - val_accuracy: 0.9905\n",
      "Epoch 24/100\n",
      "45/45 [==============================] - 0s 4ms/step - loss: 0.0361 - accuracy: 0.9866 - val_loss: 0.0476 - val_accuracy: 0.9894\n",
      "Epoch 25/100\n",
      "45/45 [==============================] - 0s 4ms/step - loss: 0.0335 - accuracy: 0.9869 - val_loss: 0.0438 - val_accuracy: 0.9894\n",
      "Epoch 26/100\n",
      "45/45 [==============================] - 0s 5ms/step - loss: 0.0354 - accuracy: 0.9869 - val_loss: 0.0420 - val_accuracy: 0.9883\n",
      "Epoch 27/100\n",
      "45/45 [==============================] - 0s 5ms/step - loss: 0.0298 - accuracy: 0.9883 - val_loss: 0.0441 - val_accuracy: 0.9926\n",
      "Epoch 28/100\n",
      "45/45 [==============================] - 0s 6ms/step - loss: 0.0304 - accuracy: 0.9873 - val_loss: 0.0444 - val_accuracy: 0.9905\n",
      "Epoch 29/100\n",
      "45/45 [==============================] - 0s 5ms/step - loss: 0.0277 - accuracy: 0.9883 - val_loss: 0.0421 - val_accuracy: 0.9915\n",
      "Epoch 30/100\n",
      "45/45 [==============================] - 0s 5ms/step - loss: 0.0305 - accuracy: 0.9894 - val_loss: 0.0424 - val_accuracy: 0.9915\n",
      "Epoch 31/100\n",
      "45/45 [==============================] - 0s 5ms/step - loss: 0.0269 - accuracy: 0.9905 - val_loss: 0.0433 - val_accuracy: 0.9905\n",
      "Epoch 32/100\n",
      "45/45 [==============================] - 0s 5ms/step - loss: 0.0218 - accuracy: 0.9901 - val_loss: 0.0438 - val_accuracy: 0.9915\n",
      "Epoch 33/100\n",
      "45/45 [==============================] - 0s 5ms/step - loss: 0.0238 - accuracy: 0.9905 - val_loss: 0.0456 - val_accuracy: 0.9905\n",
      "Epoch 34/100\n",
      "45/45 [==============================] - 0s 5ms/step - loss: 0.0247 - accuracy: 0.9908 - val_loss: 0.0435 - val_accuracy: 0.9926\n",
      "Epoch 35/100\n",
      "45/45 [==============================] - 0s 5ms/step - loss: 0.0195 - accuracy: 0.9922 - val_loss: 0.0464 - val_accuracy: 0.9883\n",
      "Epoch 36/100\n",
      "45/45 [==============================] - 0s 5ms/step - loss: 0.0238 - accuracy: 0.9894 - val_loss: 0.0435 - val_accuracy: 0.9915\n",
      "Epoch 37/100\n",
      "45/45 [==============================] - 0s 4ms/step - loss: 0.0246 - accuracy: 0.9905 - val_loss: 0.0426 - val_accuracy: 0.9926\n",
      "Epoch 38/100\n",
      "45/45 [==============================] - 0s 4ms/step - loss: 0.0231 - accuracy: 0.9926 - val_loss: 0.0395 - val_accuracy: 0.9915\n",
      "Epoch 39/100\n",
      "45/45 [==============================] - 0s 4ms/step - loss: 0.0233 - accuracy: 0.9905 - val_loss: 0.0413 - val_accuracy: 0.9915\n",
      "Epoch 40/100\n",
      "45/45 [==============================] - 0s 4ms/step - loss: 0.0208 - accuracy: 0.9908 - val_loss: 0.0427 - val_accuracy: 0.9926\n",
      "Epoch 41/100\n",
      "45/45 [==============================] - 0s 4ms/step - loss: 0.0213 - accuracy: 0.9915 - val_loss: 0.0414 - val_accuracy: 0.9915\n",
      "Epoch 42/100\n",
      "45/45 [==============================] - 0s 4ms/step - loss: 0.0221 - accuracy: 0.9926 - val_loss: 0.0420 - val_accuracy: 0.9926\n",
      "Epoch 43/100\n",
      "45/45 [==============================] - 0s 4ms/step - loss: 0.0191 - accuracy: 0.9922 - val_loss: 0.0446 - val_accuracy: 0.9915\n",
      "Epoch 44/100\n",
      "45/45 [==============================] - 0s 4ms/step - loss: 0.0215 - accuracy: 0.9915 - val_loss: 0.0407 - val_accuracy: 0.9915\n",
      "Epoch 45/100\n",
      "45/45 [==============================] - 0s 4ms/step - loss: 0.0221 - accuracy: 0.9915 - val_loss: 0.0434 - val_accuracy: 0.9894\n",
      "Epoch 46/100\n",
      "45/45 [==============================] - 0s 4ms/step - loss: 0.0174 - accuracy: 0.9926 - val_loss: 0.0422 - val_accuracy: 0.9936\n",
      "Epoch 47/100\n",
      "45/45 [==============================] - 0s 4ms/step - loss: 0.0191 - accuracy: 0.9915 - val_loss: 0.0459 - val_accuracy: 0.9926\n",
      "Epoch 48/100\n",
      "45/45 [==============================] - 0s 4ms/step - loss: 0.0176 - accuracy: 0.9915 - val_loss: 0.0497 - val_accuracy: 0.9894\n",
      "Epoch 49/100\n",
      "45/45 [==============================] - 0s 4ms/step - loss: 0.0189 - accuracy: 0.9915 - val_loss: 0.0498 - val_accuracy: 0.9926\n",
      "Epoch 50/100\n",
      "45/45 [==============================] - 0s 4ms/step - loss: 0.0159 - accuracy: 0.9922 - val_loss: 0.0473 - val_accuracy: 0.9926\n",
      "Epoch 51/100\n",
      "45/45 [==============================] - 0s 4ms/step - loss: 0.0161 - accuracy: 0.9933 - val_loss: 0.0454 - val_accuracy: 0.9926\n",
      "Epoch 52/100\n",
      "45/45 [==============================] - 0s 4ms/step - loss: 0.0170 - accuracy: 0.9922 - val_loss: 0.0523 - val_accuracy: 0.9905\n",
      "Epoch 53/100\n",
      "45/45 [==============================] - 0s 4ms/step - loss: 0.0122 - accuracy: 0.9954 - val_loss: 0.0440 - val_accuracy: 0.9926\n",
      "Epoch 54/100\n",
      "45/45 [==============================] - 0s 4ms/step - loss: 0.0162 - accuracy: 0.9926 - val_loss: 0.0466 - val_accuracy: 0.9926\n",
      "Epoch 55/100\n",
      "45/45 [==============================] - 0s 5ms/step - loss: 0.0144 - accuracy: 0.9947 - val_loss: 0.0429 - val_accuracy: 0.9926\n",
      "Epoch 56/100\n",
      "45/45 [==============================] - 0s 4ms/step - loss: 0.0164 - accuracy: 0.9929 - val_loss: 0.0440 - val_accuracy: 0.9936\n",
      "Epoch 57/100\n",
      "45/45 [==============================] - 0s 4ms/step - loss: 0.0139 - accuracy: 0.9940 - val_loss: 0.0441 - val_accuracy: 0.9947\n",
      "Epoch 58/100\n",
      "45/45 [==============================] - 0s 4ms/step - loss: 0.0184 - accuracy: 0.9926 - val_loss: 0.0510 - val_accuracy: 0.9894\n",
      "Epoch 00058: early stopping\n"
     ]
    }
   ],
   "source": [
    "history = model.fit(X_train, y_train, epochs=100, callbacks=[es], batch_size=64, \n",
    "                    validation_data=(X_test,y_test))"
   ]
  },
  {
   "cell_type": "markdown",
   "id": "b0fa7a85-d5cf-43fe-af25-29fe761799c4",
   "metadata": {},
   "source": [
    "# MODEL EVALUATION"
   ]
  },
  {
   "cell_type": "code",
   "execution_count": 10,
   "id": "8acf4144-3b58-467a-b3c3-123367f62436",
   "metadata": {},
   "outputs": [
    {
     "name": "stdout",
     "output_type": "stream",
     "text": [
      "89/89 [==============================] - 0s 1ms/step - loss: 0.0099 - accuracy: 0.9968\n"
     ]
    },
    {
     "data": {
      "text/plain": [
       "[0.009906191378831863, 0.9968186616897583]"
      ]
     },
     "execution_count": 10,
     "metadata": {},
     "output_type": "execute_result"
    }
   ],
   "source": [
    "model.evaluate(X_train, y_train)"
   ]
  },
  {
   "cell_type": "code",
   "execution_count": 11,
   "id": "c465a8af-95fd-46c9-a232-e2fa461242a6",
   "metadata": {},
   "outputs": [
    {
     "name": "stdout",
     "output_type": "stream",
     "text": [
      "30/30 [==============================] - 0s 1ms/step - loss: 0.0510 - accuracy: 0.9894\n"
     ]
    },
    {
     "data": {
      "text/plain": [
       "[0.05100071057677269, 0.9893955588340759]"
      ]
     },
     "execution_count": 11,
     "metadata": {},
     "output_type": "execute_result"
    }
   ],
   "source": [
    "model.evaluate(X_test, y_test)"
   ]
  },
  {
   "cell_type": "code",
   "execution_count": 12,
   "id": "bef92d08-2d1d-422e-884d-62715041ee82",
   "metadata": {},
   "outputs": [],
   "source": [
    "losses = pd.DataFrame(history.history)"
   ]
  },
  {
   "cell_type": "code",
   "execution_count": 13,
   "id": "372100c9-605e-4f99-aee5-f63421eb35bd",
   "metadata": {},
   "outputs": [
    {
     "data": {
      "text/plain": [
       "<AxesSubplot:>"
      ]
     },
     "execution_count": 13,
     "metadata": {},
     "output_type": "execute_result"
    },
    {
     "data": {
      "image/png": "[encoded data removed]",
      "text/plain": [
       "<Figure size 432x288 with 1 Axes>"
      ]
     },
     "metadata": {
      "needs_background": "light"
     },
     "output_type": "display_data"
    }
   ],
   "source": [
    "losses[[\"accuracy\", \"val_accuracy\"]].plot()"
   ]
  },
  {
   "cell_type": "code",
   "execution_count": 14,
   "id": "936f400e-b4af-4cd2-86e4-1a49b5d01bf7",
   "metadata": {},
   "outputs": [
    {
     "data": {
      "text/plain": [
       "<AxesSubplot:>"
      ]
     },
     "execution_count": 14,
     "metadata": {},
     "output_type": "execute_result"
    },
    {
     "data": {
      "image/png": "[encoded data removed]",
      "text/plain": [
       "<Figure size 432x288 with 1 Axes>"
      ]
     },
     "metadata": {
      "needs_background": "light"
     },
     "output_type": "display_data"
    }
   ],
   "source": [
    "losses[[\"loss\", \"val_loss\"]].plot()"
   ]
  },
  {
   "cell_type": "code",
   "execution_count": 15,
   "id": "72f78a7a-1bd9-43a5-a571-9776565af737",
   "metadata": {},
   "outputs": [],
   "source": [
    "pred = (model.predict(X_test) > 0.5).astype('int32')"
   ]
  },
  {
   "cell_type": "code",
   "execution_count": 16,
   "id": "a4bd546c-6137-4ac7-9be0-624ffcaf52de",
   "metadata": {},
   "outputs": [
    {
     "data": {
      "text/html": [
       "<div>\n",
       "<style scoped>\n",
       "    .dataframe tbody tr th:only-of-type {\n",
       "        vertical-align: middle;\n",
       "    }\n",
       "\n",
       "    .dataframe tbody tr th {\n",
       "        vertical-align: top;\n",
       "    }\n",
       "\n",
       "    .dataframe thead th {\n",
       "        text-align: right;\n",
       "    }\n",
       "</style>\n",
       "<table border=\"1\" class=\"dataframe\">\n",
       "  <thead>\n",
       "    <tr style=\"text-align: right;\">\n",
       "      <th></th>\n",
       "      <th>0</th>\n",
       "      <th>1</th>\n",
       "    </tr>\n",
       "  </thead>\n",
       "  <tbody>\n",
       "    <tr>\n",
       "      <th>0</th>\n",
       "      <td>56</td>\n",
       "      <td>9</td>\n",
       "    </tr>\n",
       "    <tr>\n",
       "      <th>1</th>\n",
       "      <td>1</td>\n",
       "      <td>877</td>\n",
       "    </tr>\n",
       "  </tbody>\n",
       "</table>\n",
       "</div>"
      ],
      "text/plain": [
       "    0    1\n",
       "0  56    9\n",
       "1   1  877"
      ]
     },
     "execution_count": 16,
     "metadata": {},
     "output_type": "execute_result"
    }
   ],
   "source": [
    "pd.DataFrame(data = confusion_matrix(y_true = y_test\n",
    "                                     , y_pred = pred))"
   ]
  },
  {
   "cell_type": "code",
   "execution_count": 17,
   "id": "2c9d046b-2714-4279-99bc-abb5c9de312b",
   "metadata": {},
   "outputs": [
    {
     "name": "stdout",
     "output_type": "stream",
     "text": [
      "              precision    recall  f1-score   support\n",
      "\n",
      "           0       0.98      0.86      0.92        65\n",
      "           1       0.99      1.00      0.99       878\n",
      "\n",
      "    accuracy                           0.99       943\n",
      "   macro avg       0.99      0.93      0.96       943\n",
      "weighted avg       0.99      0.99      0.99       943\n",
      "\n"
     ]
    }
   ],
   "source": [
    "print(classification_report(y_test, pred))"
   ]
  }
 ],
 "metadata": {
  "kernelspec": {
   "display_name": "Python 3 (ipykernel)",
   "language": "python",
   "name": "python3"
  },
  "language_info": {
   "codemirror_mode": {
    "name": "ipython",
    "version": 3
   },
   "file_extension": ".py",
   "mimetype": "text/x-python",
   "name": "python",
   "nbconvert_exporter": "python",
   "pygments_lexer": "ipython3",
   "version": "3.9.7"
  }
 },
 "nbformat": 4,
 "nbformat_minor": 5
}
