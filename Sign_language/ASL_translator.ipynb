{
 "cells": [
  {
   "cell_type": "code",
   "execution_count": 1,
   "id": "908e6d4c",
   "metadata": {},
   "outputs": [],
   "source": [
    "import pandas as pd\n",
    "import numpy as np\n",
    "import matplotlib.pyplot as plt\n",
    "from PIL import Image\n",
    "from keras.preprocessing import image\n",
    "from tensorflow.keras.models import Sequential\n",
    "from tensorflow.keras.layers import Dense, Conv2D, Flatten, Dropout, MaxPooling2D, BatchNormalization\n",
    "from tensorflow.keras.callbacks import EarlyStopping\n",
    "from tensorflow.keras.preprocessing import image_dataset_from_directory\n",
    "\n",
    "# you can find the dataset here :\n",
    "# https://www.kaggle.com/grassknoted/asl-alphabet\n",
    "# The idea is to create a sign language translator\n",
    "# for now, it only works for letter\n",
    "# next step : add words ( dataset or maybe pictures of myself ? )\n",
    "# It would also use OpenCV to make a real time translator\n",
    "# Fo"
   ]
  },
  {
   "cell_type": "code",
   "execution_count": 2,
   "id": "f1354e43",
   "metadata": {},
   "outputs": [
    {
     "name": "stdout",
     "output_type": "stream",
     "text": [
      "Found 87000 files belonging to 29 classes.\n",
      "Using 69600 files for training.\n"
     ]
    }
   ],
   "source": [
    "#import train data\n",
    "# validation_split = 0.2 so 80% of the images will be used to train the model\n",
    "train_data = image_dataset_from_directory(r\"C:\\Users\\Administrateur\\Desktop\\Sign language\\asl_alphabet_train\\asl_alphabet_train\", \n",
    "                                                                 labels='inferred', label_mode='int', class_names=None,\n",
    "                                                                 color_mode='rgb', batch_size=128, image_size=(50, 50), shuffle=True, \n",
    "                                                                 seed=123, validation_split=0.2, subset=\"training\")"
   ]
  },
  {
   "cell_type": "code",
   "execution_count": 3,
   "id": "ab1c2ff8",
   "metadata": {},
   "outputs": [
    {
     "name": "stdout",
     "output_type": "stream",
     "text": [
      "Found 87000 files belonging to 29 classes.\n",
      "Using 17400 files for validation.\n"
     ]
    }
   ],
   "source": [
    "# import validation data\n",
    "# will be used to test the model\n",
    "validation_data = image_dataset_from_directory(r\"C:\\Users\\Administrateur\\Desktop\\Sign language\\asl_alphabet_train\\asl_alphabet_train\",\n",
    "                                        labels='inferred', label_mode='int', class_names=None, color_mode='rgb', \n",
    "                                        batch_size=128, image_size=(50, 50), shuffle=True, seed=123, \n",
    "                                        validation_split=0.2, subset=\"validation\")"
   ]
  },
  {
   "cell_type": "code",
   "execution_count": 4,
   "id": "ad6fb844",
   "metadata": {},
   "outputs": [],
   "source": [
    "model = Sequential()\n",
    "model.add(BatchNormalization())\n",
    "\n",
    "model.add(Conv2D(64, kernel_size=(3,3), activation = 'relu', input_shape=(50,50 ,3) ))\n",
    "model.add(MaxPooling2D(pool_size = (2, 2)))\n",
    "\n",
    "model.add(Conv2D(64, kernel_size = (3, 3), activation = 'relu'))\n",
    "model.add(MaxPooling2D(pool_size = (2, 2)))\n",
    "\n",
    "model.add(Conv2D(64, kernel_size = (3, 3), activation = 'relu'))\n",
    "model.add(MaxPooling2D(pool_size = (2, 2)))\n",
    "\n",
    "model.add(Flatten())\n",
    "model.add(Dense(128, activation = 'relu'))\n",
    "model.add(Dropout(0.20))\n",
    "model.add(Dense(29, activation = 'softmax'))"
   ]
  },
  {
   "cell_type": "code",
   "execution_count": 5,
   "id": "e3c8c796",
   "metadata": {},
   "outputs": [],
   "source": [
    "model.compile(optimizer='Adam', metrics=['accuracy'], loss='sparse_categorical_crossentropy')"
   ]
  },
  {
   "cell_type": "code",
   "execution_count": 6,
   "id": "91c4a014",
   "metadata": {},
   "outputs": [],
   "source": [
    "er = EarlyStopping(monitor=\"val_loss\", mode=\"min\", patience=5, verbose=1,\n",
    "                  restore_best_weights=True)"
   ]
  },
  {
   "cell_type": "code",
   "execution_count": 7,
   "id": "a98594cc",
   "metadata": {},
   "outputs": [
    {
     "name": "stdout",
     "output_type": "stream",
     "text": [
      "Epoch 1/25\n",
      "544/544 [==============================] - 309s 566ms/step - loss: 1.2174 - accuracy: 0.6288 - val_loss: 0.2494 - val_accuracy: 0.9282\n",
      "Epoch 2/25\n",
      "544/544 [==============================] - 310s 568ms/step - loss: 0.2328 - accuracy: 0.9221 - val_loss: 0.0958 - val_accuracy: 0.9725\n",
      "Epoch 3/25\n",
      "544/544 [==============================] - 306s 562ms/step - loss: 0.1163 - accuracy: 0.9605 - val_loss: 0.0416 - val_accuracy: 0.9877\n",
      "Epoch 4/25\n",
      "544/544 [==============================] - 304s 558ms/step - loss: 0.0792 - accuracy: 0.9730 - val_loss: 0.0181 - val_accuracy: 0.9956\n",
      "Epoch 5/25\n",
      "544/544 [==============================] - 306s 562ms/step - loss: 0.0582 - accuracy: 0.9808 - val_loss: 0.0150 - val_accuracy: 0.9963\n",
      "Epoch 6/25\n",
      "544/544 [==============================] - 311s 570ms/step - loss: 0.0447 - accuracy: 0.9852 - val_loss: 0.0128 - val_accuracy: 0.9967\n",
      "Epoch 7/25\n",
      "544/544 [==============================] - 318s 584ms/step - loss: 0.0397 - accuracy: 0.9864 - val_loss: 0.0101 - val_accuracy: 0.9971\n",
      "Epoch 8/25\n",
      "544/544 [==============================] - 315s 578ms/step - loss: 0.0375 - accuracy: 0.9882 - val_loss: 0.0135 - val_accuracy: 0.9961\n",
      "Epoch 9/25\n",
      "544/544 [==============================] - 313s 575ms/step - loss: 0.0376 - accuracy: 0.9878 - val_loss: 0.0100 - val_accuracy: 0.9971\n",
      "Epoch 10/25\n",
      "544/544 [==============================] - 314s 577ms/step - loss: 0.0305 - accuracy: 0.9898 - val_loss: 0.0121 - val_accuracy: 0.9963\n",
      "Epoch 11/25\n",
      "544/544 [==============================] - 321s 589ms/step - loss: 0.0306 - accuracy: 0.9902 - val_loss: 0.0072 - val_accuracy: 0.9975\n",
      "Epoch 12/25\n",
      "544/544 [==============================] - 327s 600ms/step - loss: 0.0209 - accuracy: 0.9931 - val_loss: 0.0073 - val_accuracy: 0.9980\n",
      "Epoch 13/25\n",
      "544/544 [==============================] - 309s 568ms/step - loss: 0.0309 - accuracy: 0.9900 - val_loss: 0.0171 - val_accuracy: 0.9941\n",
      "Epoch 14/25\n",
      "544/544 [==============================] - 311s 571ms/step - loss: 0.0258 - accuracy: 0.9918 - val_loss: 0.0141 - val_accuracy: 0.9957\n",
      "Epoch 15/25\n",
      "544/544 [==============================] - 304s 558ms/step - loss: 0.0212 - accuracy: 0.9935 - val_loss: 0.0054 - val_accuracy: 0.9984\n",
      "Epoch 16/25\n",
      "544/544 [==============================] - 310s 569ms/step - loss: 0.0177 - accuracy: 0.9945 - val_loss: 0.0035 - val_accuracy: 0.9990\n",
      "Epoch 17/25\n",
      "544/544 [==============================] - 316s 580ms/step - loss: 0.0214 - accuracy: 0.9932 - val_loss: 0.0053 - val_accuracy: 0.9982\n",
      "Epoch 18/25\n",
      "544/544 [==============================] - 295s 541ms/step - loss: 0.0216 - accuracy: 0.9929 - val_loss: 0.0096 - val_accuracy: 0.9965\n",
      "Epoch 19/25\n",
      "544/544 [==============================] - 309s 568ms/step - loss: 0.0208 - accuracy: 0.9935 - val_loss: 0.0020 - val_accuracy: 0.9995\n",
      "Epoch 20/25\n",
      "544/544 [==============================] - 323s 594ms/step - loss: 0.0196 - accuracy: 0.9940 - val_loss: 0.0061 - val_accuracy: 0.9975\n",
      "Epoch 21/25\n",
      "544/544 [==============================] - 294s 540ms/step - loss: 0.0130 - accuracy: 0.9962 - val_loss: 0.0034 - val_accuracy: 0.9988\n",
      "Epoch 22/25\n",
      "544/544 [==============================] - 285s 522ms/step - loss: 0.0187 - accuracy: 0.9945 - val_loss: 0.0034 - val_accuracy: 0.9990\n",
      "Epoch 23/25\n",
      "544/544 [==============================] - 283s 519ms/step - loss: 0.0202 - accuracy: 0.9945 - val_loss: 0.0048 - val_accuracy: 0.9980\n",
      "Epoch 24/25\n",
      "544/544 [==============================] - ETA: 0s - loss: 0.0134 - accuracy: 0.9957Restoring model weights from the end of the best epoch: 19.\n",
      "544/544 [==============================] - 281s 516ms/step - loss: 0.0134 - accuracy: 0.9957 - val_loss: 0.0085 - val_accuracy: 0.9981\n",
      "Epoch 00024: early stopping\n"
     ]
    }
   ],
   "source": [
    "sign_model = model.fit(train_data, validation_data=validation_data,\n",
    "                       epochs=25, callbacks=[er])"
   ]
  },
  {
   "cell_type": "code",
   "execution_count": 8,
   "id": "85e42505",
   "metadata": {},
   "outputs": [
    {
     "name": "stdout",
     "output_type": "stream",
     "text": [
      "544/544 [==============================] - 87s 158ms/step - loss: 0.0015 - accuracy: 0.9996\n"
     ]
    },
    {
     "data": {
      "text/plain": [
       "[0.0014996217796579003, 0.9996408224105835]"
      ]
     },
     "execution_count": 8,
     "metadata": {},
     "output_type": "execute_result"
    }
   ],
   "source": [
    "model.evaluate(train_data)"
   ]
  },
  {
   "cell_type": "code",
   "execution_count": 10,
   "id": "7e585607",
   "metadata": {},
   "outputs": [
    {
     "name": "stdout",
     "output_type": "stream",
     "text": [
      "136/136 [==============================] - 21s 150ms/step - loss: 0.0020 - accuracy: 0.9995\n"
     ]
    },
    {
     "data": {
      "text/plain": [
       "[0.0020261346362531185, 0.9994827508926392]"
      ]
     },
     "execution_count": 10,
     "metadata": {},
     "output_type": "execute_result"
    }
   ],
   "source": [
    "model.evaluate(validation_data)"
   ]
  },
  {
   "cell_type": "code",
   "execution_count": 11,
   "id": "b65cde37",
   "metadata": {},
   "outputs": [],
   "source": [
    "# df with the metrics of our model\n",
    "df_loss = pd.DataFrame(sign_model.history)"
   ]
  },
  {
   "cell_type": "code",
   "execution_count": 12,
   "id": "3a352bc7",
   "metadata": {},
   "outputs": [
    {
     "data": {
      "text/plain": [
       "<AxesSubplot:>"
      ]
     },
     "execution_count": 12,
     "metadata": {},
     "output_type": "execute_result"
    },
    {
     "data": {
      "image/png": "[encoded data removed]",
      "text/plain": [
       "<Figure size 432x288 with 1 Axes>"
      ]
     },
     "metadata": {
      "needs_background": "light"
     },
     "output_type": "display_data"
    }
   ],
   "source": [
    "# no overfitting ! \n",
    "df_loss[[\"loss\", \"val_loss\"]].plot()"
   ]
  },
  {
   "cell_type": "code",
   "execution_count": 13,
   "id": "7a86a8f8",
   "metadata": {},
   "outputs": [
    {
     "data": {
      "text/plain": [
       "<AxesSubplot:>"
      ]
     },
     "execution_count": 13,
     "metadata": {},
     "output_type": "execute_result"
    },
    {
     "data": {
      "image/png": "[encoded data removed]",
      "text/plain": [
       "<Figure size 432x288 with 1 Axes>"
      ]
     },
     "metadata": {
      "needs_background": "light"
     },
     "output_type": "display_data"
    }
   ],
   "source": [
    "df_loss[[\"accuracy\", \"val_accuracy\"]].plot()"
   ]
  },
  {
   "cell_type": "code",
   "execution_count": 14,
   "id": "89c93d74",
   "metadata": {},
   "outputs": [],
   "source": [
    "# dict with labels, we'll use it to get the prediction\n",
    "dict_labels = {0:\"a\",1:\"b\",2:\"c\",3:\"d\",4:\"e\",5:\"f\",6:\"g\",7:\"h\",8:\"i\",9:\"j\",10:\"k\",11:\"l\",12:\"m\",13:\"n\",\n",
    "               14:\"o\",15:\"p\",16:\"q\",17:\"r\",18:\"s\",19:\"t\",20:\"u\",21:\"v\",22:\"w\",23:\"x\",24:\"y\",25:\"z\",\n",
    "              26:\"del\", 27:\"nothing\", 28:\"space\"}"
   ]
  },
  {
   "cell_type": "code",
   "execution_count": 15,
   "id": "25b68529",
   "metadata": {},
   "outputs": [
    {
     "name": "stdout",
     "output_type": "stream",
     "text": [
      "[6]\n",
      "g\n"
     ]
    },
    {
     "data": {
      "text/plain": [
       "<matplotlib.image.AxesImage at 0x27ad8144d00>"
      ]
     },
     "execution_count": 15,
     "metadata": {},
     "output_type": "execute_result"
    },
    {
     "data": {
      "image/png": "[encoded data removed]",
      "text/plain": [
       "<Figure size 432x288 with 1 Axes>"
      ]
     },
     "metadata": {
      "needs_background": "light"
     },
     "output_type": "display_data"
    }
   ],
   "source": [
    "image_path = r\"C:\\Users\\Administrateur\\Desktop\\Sign language\\asl_alphabet_train\\asl_alphabet_train\\G\\G1.jpg\"\n",
    "# load image with same target_size as img_size for our model\n",
    "new_img = image.load_img(image_path, target_size=(50, 50))\n",
    "# from img to array using PIL \n",
    "img = image.img_to_array(new_img)\n",
    "# expand number of dimension of our array\n",
    "# for exemple if you have X of shape (2,)\n",
    "# np.expand_dims(X, axis=0)\n",
    "# will give you X2 of shape (1,2)\n",
    "# we use it so the image shape match the shape needed by our model\n",
    "img = np.expand_dims(img, axis=0)\n",
    "# get the prediction\n",
    "prediction = model.predict(img)\n",
    "prediction = np.argmax(prediction,axis=1)\n",
    "# print prediction of our model\n",
    "print(prediction)\n",
    "# print the letter corresponding to the prediction\n",
    "print(dict_labels[prediction[0]])\n",
    "plt.imshow(new_img)"
   ]
  },
  {
   "cell_type": "code",
   "execution_count": 16,
   "id": "babbaf7e",
   "metadata": {},
   "outputs": [
    {
     "name": "stdout",
     "output_type": "stream",
     "text": [
      "[25]\n",
      "z\n"
     ]
    },
    {
     "data": {
      "text/plain": [
       "<matplotlib.image.AxesImage at 0x27ad81a52e0>"
      ]
     },
     "execution_count": 16,
     "metadata": {},
     "output_type": "execute_result"
    },
    {
     "data": {
      "image/png": "[encoded data removed]",
      "text/plain": [
       "<Figure size 432x288 with 1 Axes>"
      ]
     },
     "metadata": {
      "needs_background": "light"
     },
     "output_type": "display_data"
    }
   ],
   "source": [
    "image_path = r\"C:\\Users\\Administrateur\\Desktop\\Sign language\\asl_alphabet_train\\asl_alphabet_train\\Z\\Z3.jpg\"\n",
    "new_img = image.load_img(image_path, target_size=(50, 50))\n",
    "img = image.img_to_array(new_img)\n",
    "img = np.expand_dims(img, axis=0)\n",
    "prediction = model.predict(img)\n",
    "prediction = np.argmax(prediction,axis=1)\n",
    "print(prediction)\n",
    "print(dict_labels[prediction[0]])\n",
    "plt.imshow(new_img)"
   ]
  },
  {
   "cell_type": "code",
   "execution_count": 17,
   "id": "6e75e877",
   "metadata": {},
   "outputs": [
    {
     "name": "stdout",
     "output_type": "stream",
     "text": [
      "[17]\n",
      "r\n"
     ]
    },
    {
     "data": {
      "text/plain": [
       "<matplotlib.image.AxesImage at 0x27ad81f8940>"
      ]
     },
     "execution_count": 17,
     "metadata": {},
     "output_type": "execute_result"
    },
    {
     "data": {
      "image/png": "[encoded data removed]",
      "text/plain": [
       "<Figure size 432x288 with 1 Axes>"
      ]
     },
     "metadata": {
      "needs_background": "light"
     },
     "output_type": "display_data"
    }
   ],
   "source": [
    "image_path = r\"C:\\Users\\Administrateur\\Desktop\\Sign language\\asl_alphabet_train\\asl_alphabet_train\\R\\R9.jpg\"\n",
    "new_img = image.load_img(image_path, target_size=(50, 50))\n",
    "img = image.img_to_array(new_img)\n",
    "img = np.expand_dims(img, axis=0)\n",
    "prediction = model.predict(img)\n",
    "prediction = np.argmax(prediction,axis=1)\n",
    "print(prediction)\n",
    "print(dict_labels[prediction[0]])\n",
    "plt.imshow(new_img)"
   ]
  },
  {
   "cell_type": "code",
   "execution_count": null,
   "id": "f34764ab",
   "metadata": {},
   "outputs": [],
   "source": []
  }
 ],
 "metadata": {
  "kernelspec": {
   "display_name": "Python 3 (ipykernel)",
   "language": "python",
   "name": "python3"
  },
  "language_info": {
   "codemirror_mode": {
    "name": "ipython",
    "version": 3
   },
   "file_extension": ".py",
   "mimetype": "text/x-python",
   "name": "python",
   "nbconvert_exporter": "python",
   "pygments_lexer": "ipython3",
   "version": "3.9.7"
  }
 },
 "nbformat": 4,
 "nbformat_minor": 5
}
